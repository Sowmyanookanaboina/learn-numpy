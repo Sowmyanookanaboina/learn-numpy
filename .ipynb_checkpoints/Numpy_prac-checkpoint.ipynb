{
 "cells": [
  {
   "cell_type": "code",
   "execution_count": 1,
   "id": "14319b5d-9038-43c6-8a92-d4adff54f42b",
   "metadata": {},
   "outputs": [],
   "source": [
    "import numpy as np"
   ]
  },
  {
   "cell_type": "code",
   "execution_count": 2,
   "id": "9b54395b-9355-4986-aba0-b7777e1d5a6d",
   "metadata": {},
   "outputs": [
    {
     "data": {
      "text/plain": [
       "array([1, 2, 3])"
      ]
     },
     "execution_count": 2,
     "metadata": {},
     "output_type": "execute_result"
    }
   ],
   "source": [
    "a=np.array([1,2,3])\n",
    "a"
   ]
  },
  {
   "cell_type": "code",
   "execution_count": 3,
   "id": "56c09773-a831-43fe-98e6-2149b2602c01",
   "metadata": {},
   "outputs": [
    {
     "data": {
      "text/plain": [
       "numpy.ndarray"
      ]
     },
     "execution_count": 3,
     "metadata": {},
     "output_type": "execute_result"
    }
   ],
   "source": [
    "type(a)"
   ]
  },
  {
   "cell_type": "code",
   "execution_count": 4,
   "id": "028cfee4-a80a-4e79-992c-072484e0ce9f",
   "metadata": {},
   "outputs": [
    {
     "data": {
      "text/plain": [
       "array([[1, 2, 3],\n",
       "       [4, 5, 6]])"
      ]
     },
     "execution_count": 4,
     "metadata": {},
     "output_type": "execute_result"
    }
   ],
   "source": [
    "b=np.array([[1,2,3],[4,5,6]])\n",
    "b"
   ]
  },
  {
   "cell_type": "code",
   "execution_count": 5,
   "id": "4bc7413a-13da-4e82-8465-fba2598fe079",
   "metadata": {},
   "outputs": [
    {
     "data": {
      "text/plain": [
       "array([[[1, 2],\n",
       "        [3, 4]],\n",
       "\n",
       "       [[5, 6],\n",
       "        [7, 8]]])"
      ]
     },
     "execution_count": 5,
     "metadata": {},
     "output_type": "execute_result"
    }
   ],
   "source": [
    "c=np.array([[[1,2],[3,4]],[[5,6],[7,8]]])\n",
    "c"
   ]
  },
  {
   "cell_type": "code",
   "execution_count": 6,
   "id": "140c0f46-d81d-4b4c-b1cf-e8a1254186a2",
   "metadata": {},
   "outputs": [
    {
     "data": {
      "text/plain": [
       "array([1., 2., 3.])"
      ]
     },
     "execution_count": 6,
     "metadata": {},
     "output_type": "execute_result"
    }
   ],
   "source": [
    "np.array([1,2,3],dtype=float)"
   ]
  },
  {
   "cell_type": "code",
   "execution_count": 8,
   "id": "45ffc2cf-837b-4027-b432-0c077f99f124",
   "metadata": {},
   "outputs": [
    {
     "data": {
      "text/plain": [
       "array([1.+0.j, 2.+0.j, 3.+0.j])"
      ]
     },
     "execution_count": 8,
     "metadata": {},
     "output_type": "execute_result"
    }
   ],
   "source": [
    "np.array([1,2,3],dtype=bool)\n",
    "np.array([1,2,3],dtype=complex)"
   ]
  },
  {
   "cell_type": "code",
   "execution_count": 9,
   "id": "1ad26f43-42e4-4345-9a20-4ad73af8eff4",
   "metadata": {},
   "outputs": [
    {
     "data": {
      "text/plain": [
       "array([ 1,  2,  3,  4,  5,  6,  7,  8,  9, 10])"
      ]
     },
     "execution_count": 9,
     "metadata": {},
     "output_type": "execute_result"
    }
   ],
   "source": [
    "#np.arange\n",
    "np.arange(1,11)"
   ]
  },
  {
   "cell_type": "code",
   "execution_count": 10,
   "id": "7938c3f9-4bf0-4043-a4c8-ec98553ebc3f",
   "metadata": {},
   "outputs": [
    {
     "data": {
      "text/plain": [
       "array([1, 3, 5, 7, 9])"
      ]
     },
     "execution_count": 10,
     "metadata": {},
     "output_type": "execute_result"
    }
   ],
   "source": [
    "np.arange(1,11,2)"
   ]
  },
  {
   "cell_type": "code",
   "execution_count": 11,
   "id": "5b3c746a-f7b5-4315-babc-645182245fc9",
   "metadata": {},
   "outputs": [
    {
     "data": {
      "text/plain": [
       "array([[ 1,  2],\n",
       "       [ 3,  4],\n",
       "       [ 5,  6],\n",
       "       [ 7,  8],\n",
       "       [ 9, 10]])"
      ]
     },
     "execution_count": 11,
     "metadata": {},
     "output_type": "execute_result"
    }
   ],
   "source": [
    "#reshape\n",
    "np.arange(1,11).reshape(5,2)"
   ]
  },
  {
   "cell_type": "code",
   "execution_count": 12,
   "id": "ab91d54d-f3ca-4c7f-89a3-0a95b152cc55",
   "metadata": {},
   "outputs": [
    {
     "data": {
      "text/plain": [
       "array([[1., 1., 1., 1.],\n",
       "       [1., 1., 1., 1.],\n",
       "       [1., 1., 1., 1.]])"
      ]
     },
     "execution_count": 12,
     "metadata": {},
     "output_type": "execute_result"
    }
   ],
   "source": [
    "#np.ones,np.zeros\n",
    "np.ones((3,4))"
   ]
  },
  {
   "cell_type": "code",
   "execution_count": 13,
   "id": "d07b5383-0825-44e0-b86b-d6a5628627d7",
   "metadata": {},
   "outputs": [
    {
     "data": {
      "text/plain": [
       "array([[0., 0.],\n",
       "       [0., 0.]])"
      ]
     },
     "execution_count": 13,
     "metadata": {},
     "output_type": "execute_result"
    }
   ],
   "source": [
    "np.zeros((2,2))"
   ]
  },
  {
   "cell_type": "code",
   "execution_count": 14,
   "id": "9deac3a8-efce-4e7a-b7b5-15cc3409ab06",
   "metadata": {},
   "outputs": [
    {
     "data": {
      "text/plain": [
       "array([[0.62790301, 0.94824923, 0.84025117, 0.94886478],\n",
       "       [0.72966888, 0.27177018, 0.20401198, 0.47942551],\n",
       "       [0.78809263, 0.15369688, 0.63146833, 0.44353808]])"
      ]
     },
     "execution_count": 14,
     "metadata": {},
     "output_type": "execute_result"
    }
   ],
   "source": [
    "#np.random\n",
    "np.random.random((3,4))"
   ]
  },
  {
   "cell_type": "code",
   "execution_count": 17,
   "id": "bea8ab31-ddea-4198-aa8e-496787268847",
   "metadata": {},
   "outputs": [
    {
     "data": {
      "text/plain": [
       "array([-10,  -8,  -6,  -4,  -2,   1,   3,   5,   7,  10])"
      ]
     },
     "execution_count": 17,
     "metadata": {},
     "output_type": "execute_result"
    }
   ],
   "source": [
    "#np.linspace\n",
    "np.linspace(-10,10,10)\n",
    "np.linspace(-10,10,10,dtype=int)"
   ]
  },
  {
   "cell_type": "code",
   "execution_count": 16,
   "id": "f2fbb9b6-a7f9-418e-bca3-69c92c5c66f1",
   "metadata": {},
   "outputs": [
    {
     "data": {
      "text/plain": [
       "array([[1., 0., 0.],\n",
       "       [0., 1., 0.],\n",
       "       [0., 0., 1.]])"
      ]
     },
     "execution_count": 16,
     "metadata": {},
     "output_type": "execute_result"
    }
   ],
   "source": [
    "#np.identity\n",
    "np.identity(3)"
   ]
  },
  {
   "cell_type": "markdown",
   "id": "70db2f3b-6c1f-4811-ab82-9979e13a6135",
   "metadata": {},
   "source": [
    "**Array Attributes**"
   ]
  },
  {
   "cell_type": "code",
   "execution_count": 18,
   "id": "e9f8e92a-e622-40ea-a652-3f74d81f3d81",
   "metadata": {},
   "outputs": [],
   "source": [
    "a1=np.arange(10)\n",
    "a2=np.arange(12,dtype=float).reshape(3,4)\n",
    "a3=np.arange(8).reshape(2,2,2)"
   ]
  },
  {
   "cell_type": "code",
   "execution_count": 21,
   "id": "848d0e5c-4b2e-4874-a07f-91e989011127",
   "metadata": {},
   "outputs": [
    {
     "data": {
      "text/plain": [
       "3"
      ]
     },
     "execution_count": 21,
     "metadata": {},
     "output_type": "execute_result"
    }
   ],
   "source": [
    "#ndim\n",
    "a1.ndim\n",
    "a2.ndim\n",
    "a3.ndim"
   ]
  },
  {
   "cell_type": "code",
   "execution_count": 26,
   "id": "4d30ca9b-c6ab-49b8-a575-bf9a23c9ec06",
   "metadata": {},
   "outputs": [
    {
     "data": {
      "text/plain": [
       "(2, 2, 2)"
      ]
     },
     "execution_count": 26,
     "metadata": {},
     "output_type": "execute_result"
    }
   ],
   "source": [
    "#shape\n",
    "a1.shape\n",
    "a2.shape\n",
    "a3.shape#(2,2,2) first tells us how many 2-d arrays inside and next two numbers tells us the dimensions here there are two 2-d array with (2,2) dimensions"
   ]
  },
  {
   "cell_type": "code",
   "execution_count": 27,
   "id": "47aefd0a-4e13-4a02-b8fd-21b15b909373",
   "metadata": {},
   "outputs": [
    {
     "data": {
      "text/plain": [
       "array([[[0, 1],\n",
       "        [2, 3]],\n",
       "\n",
       "       [[4, 5],\n",
       "        [6, 7]]])"
      ]
     },
     "execution_count": 27,
     "metadata": {},
     "output_type": "execute_result"
    }
   ],
   "source": [
    "a3"
   ]
  },
  {
   "cell_type": "code",
   "execution_count": 28,
   "id": "c149c901-4aa2-4973-b81a-22eaa1b5d4e6",
   "metadata": {},
   "outputs": [
    {
     "data": {
      "text/plain": [
       "8"
      ]
     },
     "execution_count": 28,
     "metadata": {},
     "output_type": "execute_result"
    }
   ],
   "source": [
    "#size\n",
    "a3.size"
   ]
  },
  {
   "cell_type": "code",
   "execution_count": 29,
   "id": "85ae9a95-3e77-4d63-987f-2785566b7c81",
   "metadata": {},
   "outputs": [
    {
     "data": {
      "text/plain": [
       "4"
      ]
     },
     "execution_count": 29,
     "metadata": {},
     "output_type": "execute_result"
    }
   ],
   "source": [
    "#itemsize-tells us memory occupied by each item\n",
    "a3.itemsize"
   ]
  },
  {
   "cell_type": "code",
   "execution_count": 31,
   "id": "8da89002-1aef-45c1-bd36-6e32d901f9be",
   "metadata": {},
   "outputs": [
    {
     "name": "stdout",
     "output_type": "stream",
     "text": [
      "int32\n",
      "float64\n"
     ]
    }
   ],
   "source": [
    "#dtype\n",
    "print(a1.dtype)\n",
    "print(a2.dtype)"
   ]
  },
  {
   "cell_type": "markdown",
   "id": "066cf407-2d70-4e87-a765-d5d4f17f4ee6",
   "metadata": {},
   "source": [
    "**Changing Datatypes**"
   ]
  },
  {
   "cell_type": "code",
   "execution_count": 33,
   "id": "f56209e9-3199-40de-a6e5-be7966767a93",
   "metadata": {},
   "outputs": [
    {
     "data": {
      "text/plain": [
       "array([[[0, 1],\n",
       "        [2, 3]],\n",
       "\n",
       "       [[4, 5],\n",
       "        [6, 7]]], dtype=int64)"
      ]
     },
     "execution_count": 33,
     "metadata": {},
     "output_type": "execute_result"
    }
   ],
   "source": [
    "#astype\n",
    "a3.astype(np.int64)"
   ]
  },
  {
   "cell_type": "code",
   "execution_count": 34,
   "id": "d6c6b5f5-051c-4cd9-95e1-c33adc5bbdc9",
   "metadata": {},
   "outputs": [
    {
     "data": {
      "text/plain": [
       "array([[[0, 1],\n",
       "        [2, 3]],\n",
       "\n",
       "       [[4, 5],\n",
       "        [6, 7]]])"
      ]
     },
     "execution_count": 34,
     "metadata": {},
     "output_type": "execute_result"
    }
   ],
   "source": [
    "a3.astype(np.int32)"
   ]
  },
  {
   "cell_type": "markdown",
   "id": "040d69e6-0627-46c1-a28e-fdd8ed3723f5",
   "metadata": {},
   "source": [
    "**Array Operations**"
   ]
  },
  {
   "cell_type": "code",
   "execution_count": 39,
   "id": "0ac8197b-fdf4-4d3d-b664-f8b4d81ebd64",
   "metadata": {},
   "outputs": [],
   "source": [
    "a1=np.arange(12).reshape(3,4)\n",
    "a2=np.arange(12,24).reshape(3,4)"
   ]
  },
  {
   "cell_type": "code",
   "execution_count": 41,
   "id": "7ce8f691-1d5c-480a-8fb3-22a634311929",
   "metadata": {},
   "outputs": [
    {
     "data": {
      "text/plain": [
       "array([[ 2,  3,  4,  5],\n",
       "       [ 6,  7,  8,  9],\n",
       "       [10, 11, 12, 13]])"
      ]
     },
     "execution_count": 41,
     "metadata": {},
     "output_type": "execute_result"
    }
   ],
   "source": [
    "#scalarr operations\n",
    "#arithmetic\n",
    "a1*2\n",
    "a1+2"
   ]
  },
  {
   "cell_type": "code",
   "execution_count": 42,
   "id": "3100e1b0-fcaf-4e37-a5ff-618b27ad4a64",
   "metadata": {},
   "outputs": [
    {
     "data": {
      "text/plain": [
       "array([[False, False, False, False],\n",
       "       [ True,  True,  True,  True],\n",
       "       [ True,  True,  True,  True]])"
      ]
     },
     "execution_count": 42,
     "metadata": {},
     "output_type": "execute_result"
    }
   ],
   "source": [
    "#relational\n",
    "a2>15"
   ]
  },
  {
   "cell_type": "code",
   "execution_count": 44,
   "id": "24e7ce1a-2e4b-4e03-a05e-2dcb3194b6e7",
   "metadata": {},
   "outputs": [
    {
     "data": {
      "text/plain": [
       "array([[  0,  13,  28,  45],\n",
       "       [ 64,  85, 108, 133],\n",
       "       [160, 189, 220, 253]])"
      ]
     },
     "execution_count": 44,
     "metadata": {},
     "output_type": "execute_result"
    }
   ],
   "source": [
    "#vector operations\n",
    "#arithmetic\n",
    "a1+a2\n",
    "a1*a2"
   ]
  },
  {
   "cell_type": "markdown",
   "id": "0a33228e-95c8-4ccf-9899-dca8411a94ea",
   "metadata": {},
   "source": [
    "**Array Functions**"
   ]
  },
  {
   "cell_type": "code",
   "execution_count": 46,
   "id": "5888105f-b927-4968-be94-01ce95eb9f86",
   "metadata": {},
   "outputs": [
    {
     "data": {
      "text/plain": [
       "array([[74., 74.,  9.],\n",
       "       [35.,  3., 85.],\n",
       "       [ 4., 81., 91.]])"
      ]
     },
     "execution_count": 46,
     "metadata": {},
     "output_type": "execute_result"
    }
   ],
   "source": [
    "a1=np.random.random((3,3))\n",
    "a1=np.round(a1*100)\n",
    "a1"
   ]
  },
  {
   "cell_type": "code",
   "execution_count": 50,
   "id": "b4f25d72-40e3-4685-84b7-1ce9eb884944",
   "metadata": {},
   "outputs": [
    {
     "data": {
      "text/plain": [
       "12968823394800.0"
      ]
     },
     "execution_count": 50,
     "metadata": {},
     "output_type": "execute_result"
    }
   ],
   "source": [
    "#max/min/sum/prod\n",
    "np.max(a1)\n",
    "np.min(a1)\n",
    "np.sum(a1)\n",
    "np.prod(a1)"
   ]
  },
  {
   "cell_type": "code",
   "execution_count": 56,
   "id": "69dbd3b2-de56-4fba-b924-6e36cf5db056",
   "metadata": {},
   "outputs": [
    {
     "data": {
      "text/plain": [
       "array([9., 3., 4.])"
      ]
     },
     "execution_count": 56,
     "metadata": {},
     "output_type": "execute_result"
    }
   ],
   "source": [
    "np.min(a1)#overall minimum value\n",
    "np.min(a1,axis=0)#column wise\n",
    "np.min(a1,axis=1)#row wise"
   ]
  },
  {
   "cell_type": "code",
   "execution_count": 59,
   "id": "25c266fd-bc29-42c2-b242-a533296bd59a",
   "metadata": {},
   "outputs": [
    {
     "data": {
      "text/plain": [
       "array([52.33333333, 41.        , 58.66666667])"
      ]
     },
     "execution_count": 59,
     "metadata": {},
     "output_type": "execute_result"
    }
   ],
   "source": [
    "#mean/median/std/var\n",
    "np.mean(a1)\n",
    "np.mean(a1,axis=0)\n",
    "np.mean(a1,axis=1)"
   ]
  },
  {
   "cell_type": "code",
   "execution_count": 62,
   "id": "3cdff0d7-d14f-4eda-9ebf-ca1af3791cf2",
   "metadata": {},
   "outputs": [
    {
     "data": {
      "text/plain": [
       "array([74., 35., 81.])"
      ]
     },
     "execution_count": 62,
     "metadata": {},
     "output_type": "execute_result"
    }
   ],
   "source": [
    "np.median(a1,axis=0)\n",
    "np.median(a1,axis=1)"
   ]
  },
  {
   "cell_type": "code",
   "execution_count": 64,
   "id": "15843938-0cf2-4d5a-a057-0afacf04c4a5",
   "metadata": {},
   "outputs": [
    {
     "data": {
      "text/plain": [
       "1249.5555555555557"
      ]
     },
     "execution_count": 64,
     "metadata": {},
     "output_type": "execute_result"
    }
   ],
   "source": [
    "np.std(a1)\n",
    "np.var(a1)"
   ]
  },
  {
   "cell_type": "code",
   "execution_count": 65,
   "id": "ef026305-20fa-4a3c-a0d8-e939f925957b",
   "metadata": {},
   "outputs": [
    {
     "data": {
      "text/plain": [
       "array([[-0.98514626, -0.98514626,  0.41211849],\n",
       "       [-0.42818267,  0.14112001, -0.17607562],\n",
       "       [-0.7568025 , -0.62988799,  0.10598751]])"
      ]
     },
     "execution_count": 65,
     "metadata": {},
     "output_type": "execute_result"
    }
   ],
   "source": [
    "#trigonometrix functions\n",
    "np.sin(a1)"
   ]
  },
  {
   "cell_type": "code",
   "execution_count": 66,
   "id": "ca98cdf2-7174-4ac2-8d60-e75cea31cd66",
   "metadata": {},
   "outputs": [],
   "source": [
    "#dot product\n",
    "a2= np.arange(12).reshape(3,4)\n",
    "a3= np.arange(12,24).reshape(4,3)"
   ]
  },
  {
   "cell_type": "code",
   "execution_count": 67,
   "id": "1d3a7102-6817-4352-af59-dffe55259ad8",
   "metadata": {},
   "outputs": [
    {
     "data": {
      "text/plain": [
       "array([[114, 120, 126],\n",
       "       [378, 400, 422],\n",
       "       [642, 680, 718]])"
      ]
     },
     "execution_count": 67,
     "metadata": {},
     "output_type": "execute_result"
    }
   ],
   "source": [
    "np.dot(a2,a3)"
   ]
  },
  {
   "cell_type": "code",
   "execution_count": 68,
   "id": "0dbbaa22-4fea-4f90-ac90-c77166767a6b",
   "metadata": {},
   "outputs": [
    {
     "data": {
      "text/plain": [
       "array([[4.30406509, 4.30406509, 2.19722458],\n",
       "       [3.55534806, 1.09861229, 4.44265126],\n",
       "       [1.38629436, 4.39444915, 4.51085951]])"
      ]
     },
     "execution_count": 68,
     "metadata": {},
     "output_type": "execute_result"
    }
   ],
   "source": [
    "#log and exponents\n",
    "np.log(a1)"
   ]
  },
  {
   "cell_type": "code",
   "execution_count": 69,
   "id": "87d67c20-cc21-4ee8-b97a-3940d0d6d463",
   "metadata": {},
   "outputs": [
    {
     "data": {
      "text/plain": [
       "array([[1.37338298e+32, 1.37338298e+32, 8.10308393e+03],\n",
       "       [1.58601345e+15, 2.00855369e+01, 8.22301271e+36],\n",
       "       [5.45981500e+01, 1.50609731e+35, 3.31740010e+39]])"
      ]
     },
     "execution_count": 69,
     "metadata": {},
     "output_type": "execute_result"
    }
   ],
   "source": [
    "np.exp(a1)"
   ]
  },
  {
   "cell_type": "code",
   "execution_count": 73,
   "id": "8c99cec4-8153-4c49-b91f-f50e4514019a",
   "metadata": {},
   "outputs": [
    {
     "data": {
      "text/plain": [
       "array([[83., 52., 20.],\n",
       "       [87., 66., 10.]])"
      ]
     },
     "execution_count": 73,
     "metadata": {},
     "output_type": "execute_result"
    }
   ],
   "source": [
    "#round/floor/ceil\n",
    "np.floor(np.random.random((2,3))*100)\n",
    "# np.round(np.random.random((2,3))*100)\n",
    "np.ceil(np.random.random((2,3))*100)"
   ]
  },
  {
   "cell_type": "markdown",
   "id": "d486d11b-1cbf-453a-94b2-804b2b29aa65",
   "metadata": {},
   "source": [
    "**Indexing and Slicing**"
   ]
  },
  {
   "cell_type": "code",
   "execution_count": 74,
   "id": "e8ae3ac1-1939-4594-be3a-2fb076f40b7a",
   "metadata": {},
   "outputs": [],
   "source": [
    "a1=np.arange(10)\n",
    "a2=np.arange(12).reshape(3,4)\n",
    "a3=np.arange(8).reshape(2,2,2)"
   ]
  },
  {
   "cell_type": "code",
   "execution_count": 76,
   "id": "23c17a6d-0205-4eac-aa88-fd6f89c52139",
   "metadata": {},
   "outputs": [
    {
     "data": {
      "text/plain": [
       "array([0, 1, 2, 3, 4, 5, 6, 7, 8, 9])"
      ]
     },
     "execution_count": 76,
     "metadata": {},
     "output_type": "execute_result"
    }
   ],
   "source": [
    "a1\n"
   ]
  },
  {
   "cell_type": "code",
   "execution_count": 79,
   "id": "ae0ad4df-c318-4b83-89d1-e5c10eeb6933",
   "metadata": {},
   "outputs": [
    {
     "name": "stdout",
     "output_type": "stream",
     "text": [
      "[[ 0  1  2  3]\n",
      " [ 4  5  6  7]\n",
      " [ 8  9 10 11]]\n"
     ]
    },
    {
     "data": {
      "text/plain": [
       "6"
      ]
     },
     "execution_count": 79,
     "metadata": {},
     "output_type": "execute_result"
    }
   ],
   "source": [
    "print(a2)\n",
    "# a2[1][2]\n",
    "a2[1,2]"
   ]
  },
  {
   "cell_type": "code",
   "execution_count": 85,
   "id": "0abb8397-ef2d-4ff1-9117-7d2d20426cbc",
   "metadata": {},
   "outputs": [
    {
     "name": "stdout",
     "output_type": "stream",
     "text": [
      "[[[0 1]\n",
      "  [2 3]]\n",
      "\n",
      " [[4 5]\n",
      "  [6 7]]]\n"
     ]
    },
    {
     "data": {
      "text/plain": [
       "2"
      ]
     },
     "execution_count": 85,
     "metadata": {},
     "output_type": "execute_result"
    }
   ],
   "source": [
    "print(a3)\n",
    "# a3[1,0,1]\n",
    "a3[1,0,1]\n",
    "a3[0,0,0]\n",
    "a3[0,1,0]"
   ]
  },
  {
   "cell_type": "code",
   "execution_count": 87,
   "id": "882ad64c-b0ed-46ed-9fb2-bcd63dad1ce1",
   "metadata": {},
   "outputs": [
    {
     "name": "stdout",
     "output_type": "stream",
     "text": [
      "[0 1 2 3 4 5 6 7 8 9]\n"
     ]
    },
    {
     "data": {
      "text/plain": [
       "array([2, 3, 4])"
      ]
     },
     "execution_count": 87,
     "metadata": {},
     "output_type": "execute_result"
    }
   ],
   "source": [
    "#slicing\n",
    "print(a1)\n",
    "a1[2:5]\n"
   ]
  },
  {
   "cell_type": "code",
   "execution_count": 92,
   "id": "33443122-e9d5-443d-a97a-272ac17bb0ae",
   "metadata": {},
   "outputs": [
    {
     "name": "stdout",
     "output_type": "stream",
     "text": [
      "[[ 0  1  2  3]\n",
      " [ 4  5  6  7]\n",
      " [ 8  9 10 11]]\n"
     ]
    },
    {
     "data": {
      "text/plain": [
       "array([0, 1, 2, 3])"
      ]
     },
     "execution_count": 92,
     "metadata": {},
     "output_type": "execute_result"
    }
   ],
   "source": [
    "print(a2)\n",
    "# a2[0]\n",
    "a2[0,:]"
   ]
  },
  {
   "cell_type": "code",
   "execution_count": 93,
   "id": "bc80dd43-9e69-4c2a-b8d2-97cfc290f6f5",
   "metadata": {},
   "outputs": [
    {
     "data": {
      "text/plain": [
       "array([ 2,  6, 10])"
      ]
     },
     "execution_count": 93,
     "metadata": {},
     "output_type": "execute_result"
    }
   ],
   "source": [
    "a2[:,2]"
   ]
  },
  {
   "cell_type": "code",
   "execution_count": 94,
   "id": "6d5b8734-bf43-408d-a07c-66aed4c7dd09",
   "metadata": {},
   "outputs": [
    {
     "data": {
      "text/plain": [
       "array([[ 5,  6],\n",
       "       [ 9, 10]])"
      ]
     },
     "execution_count": 94,
     "metadata": {},
     "output_type": "execute_result"
    }
   ],
   "source": [
    "a2[1:,1:3]"
   ]
  },
  {
   "cell_type": "code",
   "execution_count": 99,
   "id": "ace1ee49-374a-4e0c-bd36-decadb0e0349",
   "metadata": {},
   "outputs": [
    {
     "data": {
      "text/plain": [
       "array([[ 0,  3],\n",
       "       [ 8, 11]])"
      ]
     },
     "execution_count": 99,
     "metadata": {},
     "output_type": "execute_result"
    }
   ],
   "source": [
    "a2[0::2,0::3]"
   ]
  },
  {
   "cell_type": "code",
   "execution_count": 100,
   "id": "294e7440-8584-483c-9855-89387bb1db75",
   "metadata": {},
   "outputs": [
    {
     "data": {
      "text/plain": [
       "array([[ 1,  3],\n",
       "       [ 9, 11]])"
      ]
     },
     "execution_count": 100,
     "metadata": {},
     "output_type": "execute_result"
    }
   ],
   "source": [
    "a2[::2,1::2]"
   ]
  },
  {
   "cell_type": "code",
   "execution_count": 101,
   "id": "a10609d9-6f27-4508-a781-d41becacac6b",
   "metadata": {},
   "outputs": [
    {
     "data": {
      "text/plain": [
       "array([4, 7])"
      ]
     },
     "execution_count": 101,
     "metadata": {},
     "output_type": "execute_result"
    }
   ],
   "source": [
    "a2[1,::3]"
   ]
  },
  {
   "cell_type": "code",
   "execution_count": 102,
   "id": "299bd7cc-2832-4686-9d8e-f1ccac93b503",
   "metadata": {},
   "outputs": [
    {
     "data": {
      "text/plain": [
       "array([[1, 2, 3],\n",
       "       [5, 6, 7]])"
      ]
     },
     "execution_count": 102,
     "metadata": {},
     "output_type": "execute_result"
    }
   ],
   "source": [
    "a2[0:2,1:]"
   ]
  },
  {
   "cell_type": "code",
   "execution_count": 105,
   "id": "0d45364b-302a-488f-a028-2fd1455086c5",
   "metadata": {},
   "outputs": [
    {
     "name": "stdout",
     "output_type": "stream",
     "text": [
      "[[[ 0  1  2]\n",
      "  [ 3  4  5]\n",
      "  [ 6  7  8]]\n",
      "\n",
      " [[ 9 10 11]\n",
      "  [12 13 14]\n",
      "  [15 16 17]]\n",
      "\n",
      " [[18 19 20]\n",
      "  [21 22 23]\n",
      "  [24 25 26]]]\n"
     ]
    }
   ],
   "source": [
    "a3=np.arange(27).reshape(3,3,3)\n",
    "print(a3)"
   ]
  },
  {
   "cell_type": "code",
   "execution_count": 110,
   "id": "56d3a8d6-3b38-451e-b385-43c9eb86241d",
   "metadata": {},
   "outputs": [
    {
     "data": {
      "text/plain": [
       "array([[22, 23],\n",
       "       [25, 26]])"
      ]
     },
     "execution_count": 110,
     "metadata": {},
     "output_type": "execute_result"
    }
   ],
   "source": [
    "a3[1]\n",
    "a3[0,1,:]\n",
    "a3[1,:,1]\n",
    "a3[2,1:,1:]"
   ]
  },
  {
   "cell_type": "code",
   "execution_count": 111,
   "id": "c0737ec4-87dd-4974-a546-7d5f2e5b4632",
   "metadata": {},
   "outputs": [
    {
     "data": {
      "text/plain": [
       "array([[ 0,  2],\n",
       "       [18, 20]])"
      ]
     },
     "execution_count": 111,
     "metadata": {},
     "output_type": "execute_result"
    }
   ],
   "source": [
    "a3[::2,0,::2]"
   ]
  },
  {
   "cell_type": "markdown",
   "id": "320c573f-3d07-4ac6-8df7-d75e19c060fc",
   "metadata": {},
   "source": [
    "**Iterating**"
   ]
  },
  {
   "cell_type": "code",
   "execution_count": 121,
   "id": "170280ed-5be5-45c3-bfc4-a77106bc618f",
   "metadata": {},
   "outputs": [
    {
     "name": "stdout",
     "output_type": "stream",
     "text": [
      "[0 1 2 3 4 5 6 7 8 9]\n",
      "0 1 2 3 4 5 6 7 8 9 \n",
      "\n",
      "[[ 0  1  2  3]\n",
      " [ 4  5  6  7]\n",
      " [ 8  9 10 11]]\n",
      "[0 1 2 3] [4 5 6 7] [ 8  9 10 11] \n",
      "\n",
      "[[[ 0  1  2]\n",
      "  [ 3  4  5]\n",
      "  [ 6  7  8]]\n",
      "\n",
      " [[ 9 10 11]\n",
      "  [12 13 14]\n",
      "  [15 16 17]]\n",
      "\n",
      " [[18 19 20]\n",
      "  [21 22 23]\n",
      "  [24 25 26]]]\n"
     ]
    }
   ],
   "source": [
    "print(a1)\n",
    "for i in a1:\n",
    "    print(i, end=\" \")\n",
    "print(\"\\n\")\n",
    "\n",
    "print(a2)\n",
    "for i in a2:\n",
    "    print(i,end =\" \")\n",
    "\n",
    "print(\"\\n\")\n",
    "print(a3)\n",
    "# for i in a3:\n",
    "#     print(i,end=\" \")"
   ]
  },
  {
   "cell_type": "code",
   "execution_count": 125,
   "id": "09b0982e-5311-45d8-953f-a7a4719b5ee1",
   "metadata": {},
   "outputs": [
    {
     "name": "stdout",
     "output_type": "stream",
     "text": [
      "0 1 2 3 4 5 6 7 8 9 10 11 12 13 14 15 16 17 18 19 20 21 22 23 24 25 26 "
     ]
    }
   ],
   "source": [
    "for i in np.nditer(a3):\n",
    "    print(i,end= \" \")\n",
    "#nditer -first it converts into 1d array and then traverse"
   ]
  },
  {
   "cell_type": "markdown",
   "id": "5da7abac-d96c-4ad9-b5b8-9d116fc2b407",
   "metadata": {},
   "source": [
    "**Reshaping**"
   ]
  },
  {
   "cell_type": "code",
   "execution_count": 127,
   "id": "3b3eb74e-787f-4583-b6d7-64543d1888b1",
   "metadata": {},
   "outputs": [
    {
     "data": {
      "text/plain": [
       "array([[ 0,  4,  8],\n",
       "       [ 1,  5,  9],\n",
       "       [ 2,  6, 10],\n",
       "       [ 3,  7, 11]])"
      ]
     },
     "execution_count": 127,
     "metadata": {},
     "output_type": "execute_result"
    }
   ],
   "source": [
    "#reshape\n",
    "#traverse\n",
    "np.transpose(a2)\n",
    "a2.T"
   ]
  },
  {
   "cell_type": "code",
   "execution_count": 129,
   "id": "5e92f810-2192-46fe-8bae-f197166a2a90",
   "metadata": {},
   "outputs": [
    {
     "data": {
      "text/plain": [
       "array([ 0,  1,  2,  3,  4,  5,  6,  7,  8,  9, 10, 11])"
      ]
     },
     "execution_count": 129,
     "metadata": {},
     "output_type": "execute_result"
    }
   ],
   "source": [
    "#ravel\n",
    "np.ravel(a2)\n",
    "a2.ravel()\n",
    "#it converts into 1d"
   ]
  },
  {
   "cell_type": "markdown",
   "id": "f7f3d524-0ea4-40b5-a58b-1c915b5fc8a0",
   "metadata": {},
   "source": [
    "**Stacking**"
   ]
  },
  {
   "cell_type": "code",
   "execution_count": 130,
   "id": "3be38d8d-5083-4715-b656-13f752317336",
   "metadata": {},
   "outputs": [],
   "source": [
    "#horizontal stacking\n",
    "a4=np.arange(12).reshape(3,4)\n",
    "a5=np.arange(12,24).reshape(3,4)"
   ]
  },
  {
   "cell_type": "code",
   "execution_count": 131,
   "id": "219ebfc1-8914-4b51-b1f9-837ef8da9139",
   "metadata": {},
   "outputs": [
    {
     "data": {
      "text/plain": [
       "array([[ 0,  1,  2,  3, 12, 13, 14, 15],\n",
       "       [ 4,  5,  6,  7, 16, 17, 18, 19],\n",
       "       [ 8,  9, 10, 11, 20, 21, 22, 23]])"
      ]
     },
     "execution_count": 131,
     "metadata": {},
     "output_type": "execute_result"
    }
   ],
   "source": [
    "np.hstack((a4,a5))"
   ]
  },
  {
   "cell_type": "code",
   "execution_count": 132,
   "id": "39283cfb-e37c-4a30-a14e-a71320b7b783",
   "metadata": {},
   "outputs": [
    {
     "data": {
      "text/plain": [
       "(3, 8)"
      ]
     },
     "execution_count": 132,
     "metadata": {},
     "output_type": "execute_result"
    }
   ],
   "source": [
    "np.hstack((a4,a5)).shape"
   ]
  },
  {
   "cell_type": "code",
   "execution_count": 133,
   "id": "5cfcf6e0-e91d-4a54-89dc-a23638e84f0f",
   "metadata": {},
   "outputs": [
    {
     "data": {
      "text/plain": [
       "array([[ 0,  1,  2,  3],\n",
       "       [ 4,  5,  6,  7],\n",
       "       [ 8,  9, 10, 11],\n",
       "       [12, 13, 14, 15],\n",
       "       [16, 17, 18, 19],\n",
       "       [20, 21, 22, 23]])"
      ]
     },
     "execution_count": 133,
     "metadata": {},
     "output_type": "execute_result"
    }
   ],
   "source": [
    "#vertical stacking\n",
    "np.vstack((a4,a5))"
   ]
  },
  {
   "cell_type": "markdown",
   "id": "eefe6bd3-8961-4593-8684-5570ae17e945",
   "metadata": {},
   "source": [
    "**Splitting**"
   ]
  },
  {
   "cell_type": "code",
   "execution_count": 134,
   "id": "dfea1b06-6d90-4efc-8f3c-51143858df31",
   "metadata": {},
   "outputs": [
    {
     "data": {
      "text/plain": [
       "array([[ 0,  1,  2,  3],\n",
       "       [ 4,  5,  6,  7],\n",
       "       [ 8,  9, 10, 11]])"
      ]
     },
     "execution_count": 134,
     "metadata": {},
     "output_type": "execute_result"
    }
   ],
   "source": [
    "a4"
   ]
  },
  {
   "cell_type": "code",
   "execution_count": 137,
   "id": "0128b8a5-41cd-47a2-98fb-3b02f326d3b6",
   "metadata": {},
   "outputs": [
    {
     "data": {
      "text/plain": [
       "[array([[0, 1],\n",
       "        [4, 5],\n",
       "        [8, 9]]),\n",
       " array([[ 2,  3],\n",
       "        [ 6,  7],\n",
       "        [10, 11]])]"
      ]
     },
     "execution_count": 137,
     "metadata": {},
     "output_type": "execute_result"
    }
   ],
   "source": [
    "np.hsplit(a4,4)\n",
    "np.hsplit(a4,2)"
   ]
  },
  {
   "cell_type": "code",
   "execution_count": 139,
   "id": "4f799fd9-a06a-4791-942d-80bac5447b57",
   "metadata": {},
   "outputs": [
    {
     "data": {
      "text/plain": [
       "[array([[12, 13, 14, 15]]),\n",
       " array([[16, 17, 18, 19]]),\n",
       " array([[20, 21, 22, 23]])]"
      ]
     },
     "execution_count": 139,
     "metadata": {},
     "output_type": "execute_result"
    }
   ],
   "source": [
    "#vertical splitting\n",
    "np.vsplit(a5,3)"
   ]
  },
  {
   "cell_type": "markdown",
   "id": "82ebe6b5-d6e2-48c7-9e24-65f8336959cd",
   "metadata": {},
   "source": [
    "**NUmpy vs Python LIsts**"
   ]
  },
  {
   "cell_type": "code",
   "execution_count": 140,
   "id": "7b8bb75b-4784-4ca9-9bb2-b0d80e9ece8f",
   "metadata": {},
   "outputs": [
    {
     "name": "stdout",
     "output_type": "stream",
     "text": [
      "4.1337480545043945\n"
     ]
    }
   ],
   "source": [
    "#speed \n",
    "#list\n",
    "a =[i for i in range(10000000)]\n",
    "b= [i for i in range(10000000,20000000)]\n",
    "c =[]\n",
    "import time\n",
    "start =time.time()\n",
    "for i in range(len(a)):\n",
    "    c.append(a[i]+b[i])\n",
    "\n",
    "print(time.time()-start)"
   ]
  },
  {
   "cell_type": "code",
   "execution_count": 142,
   "id": "4cb6e2c2-8921-4db1-b269-2c111ce81902",
   "metadata": {},
   "outputs": [
    {
     "name": "stdout",
     "output_type": "stream",
     "text": [
      "0.21282267570495605\n"
     ]
    }
   ],
   "source": [
    "#numpy \n",
    "a=np.arange(10000000)\n",
    "b=np.arange(10000000,20000000)\n",
    "start =time.time()\n",
    "c=a+b\n",
    "\n",
    "print(time.time()-start)"
   ]
  },
  {
   "cell_type": "code",
   "execution_count": 143,
   "id": "c5d91bec-5000-4b0a-9884-44cf1de866a0",
   "metadata": {},
   "outputs": [
    {
     "data": {
      "text/plain": [
       "19.666666666666668"
      ]
     },
     "execution_count": 143,
     "metadata": {},
     "output_type": "execute_result"
    }
   ],
   "source": [
    "4.13/0.21"
   ]
  },
  {
   "cell_type": "code",
   "execution_count": 145,
   "id": "f3332040-b0db-4d6e-9d1f-de4f85ff9209",
   "metadata": {},
   "outputs": [
    {
     "data": {
      "text/plain": [
       "89095160"
      ]
     },
     "execution_count": 145,
     "metadata": {},
     "output_type": "execute_result"
    }
   ],
   "source": [
    "#memory\n",
    "a=[i for i in range(10000000)]\n",
    "import sys\n",
    "sys.getsizeof(a)"
   ]
  },
  {
   "cell_type": "code",
   "execution_count": 146,
   "id": "f122d024-bf24-461b-9cfb-08533c80bc90",
   "metadata": {},
   "outputs": [
    {
     "data": {
      "text/plain": [
       "40000112"
      ]
     },
     "execution_count": 146,
     "metadata": {},
     "output_type": "execute_result"
    }
   ],
   "source": [
    "arr= np.arange(10000000)\n",
    "sys.getsizeof(arr)"
   ]
  },
  {
   "cell_type": "markdown",
   "id": "562a057b-8771-4422-abb9-3741fe16d0e0",
   "metadata": {},
   "source": [
    "**Advanced Indexing**"
   ]
  },
  {
   "cell_type": "code",
   "execution_count": 149,
   "id": "53ece1fa-a02f-48cf-82f8-a3a14b0e95e7",
   "metadata": {},
   "outputs": [],
   "source": [
    "#fancy Indexing\n",
    "a=np.arange(24).reshape(6,4)"
   ]
  },
  {
   "cell_type": "code",
   "execution_count": 151,
   "id": "51250293-cf85-47fb-a6d1-0cb89eb6da0a",
   "metadata": {},
   "outputs": [
    {
     "name": "stdout",
     "output_type": "stream",
     "text": [
      "[[ 0  1  2  3]\n",
      " [ 4  5  6  7]\n",
      " [ 8  9 10 11]\n",
      " [12 13 14 15]\n",
      " [16 17 18 19]\n",
      " [20 21 22 23]]\n"
     ]
    },
    {
     "data": {
      "text/plain": [
       "array([[ 0,  1,  2,  3],\n",
       "       [ 8,  9, 10, 11],\n",
       "       [12, 13, 14, 15],\n",
       "       [20, 21, 22, 23]])"
      ]
     },
     "execution_count": 151,
     "metadata": {},
     "output_type": "execute_result"
    }
   ],
   "source": [
    "print(a)\n",
    "a[[0,2,3,5]]"
   ]
  },
  {
   "cell_type": "code",
   "execution_count": 152,
   "id": "1819db3f-e670-496d-80c8-3a264fa938f5",
   "metadata": {},
   "outputs": [
    {
     "data": {
      "text/plain": [
       "array([[ 0,  2,  3],\n",
       "       [ 4,  6,  7],\n",
       "       [ 8, 10, 11],\n",
       "       [12, 14, 15],\n",
       "       [16, 18, 19],\n",
       "       [20, 22, 23]])"
      ]
     },
     "execution_count": 152,
     "metadata": {},
     "output_type": "execute_result"
    }
   ],
   "source": [
    "a[:,[0,2,3]]"
   ]
  },
  {
   "cell_type": "code",
   "execution_count": 153,
   "id": "ab5a448f-36c3-4534-b303-ca5a4ebc594b",
   "metadata": {},
   "outputs": [],
   "source": [
    "#Boolean Indexing\n",
    "a=np.random.randint(1,100,24).reshape(6,4)"
   ]
  },
  {
   "cell_type": "code",
   "execution_count": 156,
   "id": "dd4a4a97-4843-4b8e-aec3-77831ce9d233",
   "metadata": {},
   "outputs": [
    {
     "data": {
      "text/plain": [
       "array([58, 85, 59, 69, 80, 69, 89, 57, 86])"
      ]
     },
     "execution_count": 156,
     "metadata": {},
     "output_type": "execute_result"
    }
   ],
   "source": [
    "a[a>50]"
   ]
  },
  {
   "cell_type": "code",
   "execution_count": 157,
   "id": "2710ac45-241d-462e-84a2-61a1e07028df",
   "metadata": {},
   "outputs": [
    {
     "data": {
      "text/plain": [
       "array([30, 58, 36, 80, 10,  2, 20, 30, 86])"
      ]
     },
     "execution_count": 157,
     "metadata": {},
     "output_type": "execute_result"
    }
   ],
   "source": [
    "a[a%2==0]"
   ]
  },
  {
   "cell_type": "code",
   "execution_count": 158,
   "id": "ff1ffd08-67e3-4272-8b2f-9e487991aef5",
   "metadata": {},
   "outputs": [
    {
     "data": {
      "text/plain": [
       "array([58, 80, 86])"
      ]
     },
     "execution_count": 158,
     "metadata": {},
     "output_type": "execute_result"
    }
   ],
   "source": [
    "a[(a>50) & (a%2==0)]"
   ]
  },
  {
   "cell_type": "code",
   "execution_count": 159,
   "id": "b62540f0-7480-41e4-b1f4-bdadd66d7c5d",
   "metadata": {},
   "outputs": [
    {
     "data": {
      "text/plain": [
       "array([21])"
      ]
     },
     "execution_count": 159,
     "metadata": {},
     "output_type": "execute_result"
    }
   ],
   "source": [
    "a[a%7==0]"
   ]
  },
  {
   "cell_type": "markdown",
   "id": "61293a25-ddac-4d26-a72c-18164ac249aa",
   "metadata": {},
   "source": [
    "**Broadcasting**"
   ]
  },
  {
   "cell_type": "code",
   "execution_count": 162,
   "id": "61b0c025-e62c-4ea2-9696-34673f3a54e8",
   "metadata": {},
   "outputs": [
    {
     "name": "stdout",
     "output_type": "stream",
     "text": [
      "[[0 1 2]\n",
      " [3 4 5]]\n",
      "[[ 6  7  8]\n",
      " [ 9 10 11]]\n",
      "[[ 6  8 10]\n",
      " [12 14 16]]\n"
     ]
    }
   ],
   "source": [
    "#the term broadcasting describes how Numpy treats arrays with different shapes during arithmetic operations\n",
    "#the smaller array is \"broadcast\" accross the alrger array so that they have compaible shapes.\n",
    "\n",
    "#same shape\n",
    "a= np.arange(6).reshape(2,3)\n",
    "b=np.arange(6,12).reshape(2,3)\n",
    "print(a)\n",
    "print(b)\n",
    "print(a+b)"
   ]
  },
  {
   "cell_type": "code",
   "execution_count": 168,
   "id": "ea31f63d-997e-4fbd-908f-a02c15dbaff6",
   "metadata": {},
   "outputs": [
    {
     "name": "stdout",
     "output_type": "stream",
     "text": [
      "[[0 1 2]\n",
      " [3 4 5]]\n",
      "[[0 1 2]]\n",
      "[[0 2 4]\n",
      " [3 5 7]]\n"
     ]
    }
   ],
   "source": [
    "#diff shape\n",
    "a= np.arange(6).reshape(2,3)\n",
    "b=np.arange(3).reshape(1,3)\n",
    "print(a)\n",
    "print(b)\n",
    "print(a+b)"
   ]
  },
  {
   "cell_type": "code",
   "execution_count": 169,
   "id": "3e1ba799-f68b-469b-8f47-ecac9a3be926",
   "metadata": {},
   "outputs": [
    {
     "name": "stdout",
     "output_type": "stream",
     "text": [
      "[[ 0  1  2]\n",
      " [ 3  4  5]\n",
      " [ 6  7  8]\n",
      " [ 9 10 11]]\n",
      "[0 1 2]\n",
      "[[ 0  2  4]\n",
      " [ 3  5  7]\n",
      " [ 6  8 10]\n",
      " [ 9 11 13]]\n"
     ]
    }
   ],
   "source": [
    "#example1\n",
    "a=np.arange(12).reshape(4,3)\n",
    "b=np.arange(3)\n",
    "print(a)\n",
    "print(b)\n",
    "print(a+b)"
   ]
  },
  {
   "cell_type": "code",
   "execution_count": 170,
   "id": "ab1fbde8-e647-4f42-812f-3a31bc4ac561",
   "metadata": {},
   "outputs": [
    {
     "name": "stdout",
     "output_type": "stream",
     "text": [
      "[[ 0  1  2  3]\n",
      " [ 4  5  6  7]\n",
      " [ 8  9 10 11]]\n",
      "[0 1 2]\n"
     ]
    },
    {
     "ename": "ValueError",
     "evalue": "operands could not be broadcast together with shapes (3,4) (3,) ",
     "output_type": "error",
     "traceback": [
      "\u001b[1;31m---------------------------------------------------------------------------\u001b[0m",
      "\u001b[1;31mValueError\u001b[0m                                Traceback (most recent call last)",
      "Cell \u001b[1;32mIn[170], line 5\u001b[0m\n\u001b[0;32m      3\u001b[0m \u001b[38;5;28mprint\u001b[39m(a)\n\u001b[0;32m      4\u001b[0m \u001b[38;5;28mprint\u001b[39m(b)\n\u001b[1;32m----> 5\u001b[0m \u001b[38;5;28mprint\u001b[39m(a\u001b[38;5;241m+\u001b[39mb)\n",
      "\u001b[1;31mValueError\u001b[0m: operands could not be broadcast together with shapes (3,4) (3,) "
     ]
    }
   ],
   "source": [
    "a=np.arange(12).reshape(3,4)\n",
    "b=np.arange(3)\n",
    "print(a)\n",
    "print(b)\n",
    "# print(a+b) it throws an error"
   ]
  },
  {
   "cell_type": "code",
   "execution_count": 172,
   "id": "6eaca018-e8d2-40fc-93d1-6f77ca8ea486",
   "metadata": {},
   "outputs": [
    {
     "name": "stdout",
     "output_type": "stream",
     "text": [
      "[[0 1 2]]\n",
      "[[0]\n",
      " [1]\n",
      " [2]]\n",
      "[[0 1 2]\n",
      " [1 2 3]\n",
      " [2 3 4]]\n"
     ]
    }
   ],
   "source": [
    "a=np.arange(3).reshape(1,3)\n",
    "b=np.arange(3).reshape(3,1)\n",
    "print(a)\n",
    "print(b)\n",
    "print(a+b)"
   ]
  },
  {
   "cell_type": "code",
   "execution_count": 175,
   "id": "7b4e062c-8b77-438f-b122-c4a32a3865c9",
   "metadata": {},
   "outputs": [
    {
     "name": "stdout",
     "output_type": "stream",
     "text": [
      "[[0 1 2]]\n",
      "[[0]\n",
      " [1]\n",
      " [2]\n",
      " [3]]\n",
      "[[0 1 2]\n",
      " [1 2 3]\n",
      " [2 3 4]\n",
      " [3 4 5]]\n"
     ]
    }
   ],
   "source": [
    "a=np.arange(3).reshape(1,3)\n",
    "b=np.arange(4).reshape(4,1)\n",
    "print(a)\n",
    "print(b)\n",
    "print(a+b)"
   ]
  },
  {
   "cell_type": "code",
   "execution_count": 177,
   "id": "76ee9c0b-43c5-46f1-8cdd-e6618dc3b76d",
   "metadata": {},
   "outputs": [
    {
     "name": "stdout",
     "output_type": "stream",
     "text": [
      "[1]\n",
      "[[1 2]\n",
      " [3 4]]\n"
     ]
    }
   ],
   "source": [
    "a=np.array([1])\n",
    "print(a)\n",
    "b=np.arange(4).reshape(2,2)\n",
    "print(a+b)"
   ]
  },
  {
   "cell_type": "code",
   "execution_count": 179,
   "id": "4da247a0-a999-45c8-a2a8-2dfa09648743",
   "metadata": {},
   "outputs": [
    {
     "name": "stdout",
     "output_type": "stream",
     "text": [
      "[[ 0  1  2  3]\n",
      " [ 4  5  6  7]\n",
      " [ 8  9 10 11]]\n",
      "[[ 0  1  2]\n",
      " [ 3  4  5]\n",
      " [ 6  7  8]\n",
      " [ 9 10 11]]\n"
     ]
    },
    {
     "ename": "ValueError",
     "evalue": "operands could not be broadcast together with shapes (3,4) (4,3) ",
     "output_type": "error",
     "traceback": [
      "\u001b[1;31m---------------------------------------------------------------------------\u001b[0m",
      "\u001b[1;31mValueError\u001b[0m                                Traceback (most recent call last)",
      "Cell \u001b[1;32mIn[179], line 5\u001b[0m\n\u001b[0;32m      3\u001b[0m \u001b[38;5;28mprint\u001b[39m(a)\n\u001b[0;32m      4\u001b[0m \u001b[38;5;28mprint\u001b[39m(b)\n\u001b[1;32m----> 5\u001b[0m \u001b[38;5;28mprint\u001b[39m(a\u001b[38;5;241m+\u001b[39mb)\n",
      "\u001b[1;31mValueError\u001b[0m: operands could not be broadcast together with shapes (3,4) (4,3) "
     ]
    }
   ],
   "source": [
    "a=np.arange(12).reshape(3,4)\n",
    "b=np.arange(12).reshape(4,3)\n",
    "print(a)\n",
    "print(b)\n",
    "print(a+b)"
   ]
  },
  {
   "cell_type": "code",
   "execution_count": 180,
   "id": "c132eef6-c7da-4876-9101-f3f27e4847a5",
   "metadata": {},
   "outputs": [
    {
     "name": "stdout",
     "output_type": "stream",
     "text": [
      "[[ 0  1  2  3]\n",
      " [ 4  5  6  7]\n",
      " [ 8  9 10 11]\n",
      " [12 13 14 15]]\n",
      "[[0 1]\n",
      " [2 3]]\n"
     ]
    },
    {
     "ename": "ValueError",
     "evalue": "operands could not be broadcast together with shapes (4,4) (2,2) ",
     "output_type": "error",
     "traceback": [
      "\u001b[1;31m---------------------------------------------------------------------------\u001b[0m",
      "\u001b[1;31mValueError\u001b[0m                                Traceback (most recent call last)",
      "Cell \u001b[1;32mIn[180], line 5\u001b[0m\n\u001b[0;32m      3\u001b[0m \u001b[38;5;28mprint\u001b[39m(a)\n\u001b[0;32m      4\u001b[0m \u001b[38;5;28mprint\u001b[39m(b)\n\u001b[1;32m----> 5\u001b[0m \u001b[38;5;28mprint\u001b[39m(a\u001b[38;5;241m+\u001b[39mb)\n",
      "\u001b[1;31mValueError\u001b[0m: operands could not be broadcast together with shapes (4,4) (2,2) "
     ]
    }
   ],
   "source": [
    "a=np.arange(16).reshape(4,4)\n",
    "b=np.arange(4).reshape(2,2)\n",
    "print(a)\n",
    "print(b)\n",
    "print(a+b)"
   ]
  },
  {
   "cell_type": "markdown",
   "id": "d95b2ca7-9c4e-4e58-bd56-992b3fc83a9b",
   "metadata": {},
   "source": [
    "**Working with Mathematical Formulas**"
   ]
  },
  {
   "cell_type": "code",
   "execution_count": 182,
   "id": "fa8049ac-133d-4b2e-a0c0-810514f9be9b",
   "metadata": {},
   "outputs": [
    {
     "data": {
      "text/plain": [
       "array([0.5       , 0.73105858, 0.88079708, 0.95257413, 0.98201379,\n",
       "       0.99330715, 0.99752738, 0.99908895, 0.99966465, 0.99987661])"
      ]
     },
     "execution_count": 182,
     "metadata": {},
     "output_type": "execute_result"
    }
   ],
   "source": [
    "#sigmoid\n",
    "def sigmoid(array):\n",
    "    return 1/(1+np.exp(-(array)))\n",
    "\n",
    "a=np.arange(10)\n",
    "sigmoid(a)"
   ]
  },
  {
   "cell_type": "code",
   "execution_count": 183,
   "id": "ae7f31d1-5126-43e2-8561-8e923a9fb822",
   "metadata": {},
   "outputs": [],
   "source": [
    "#mean-squared error\n",
    "actual=np.random.randint(1,50,25)\n",
    "predicted =np.random.randint(1,50,25)"
   ]
  },
  {
   "cell_type": "code",
   "execution_count": 184,
   "id": "6187634f-f571-4e28-962e-cfcd69743d18",
   "metadata": {},
   "outputs": [
    {
     "data": {
      "text/plain": [
       "array([ 5,  1, 10, 28, 11, 38, 31, 11, 36,  6,  8, 38, 15, 33,  8, 23,  3,\n",
       "       47, 15, 13, 20, 45, 40, 29, 27])"
      ]
     },
     "execution_count": 184,
     "metadata": {},
     "output_type": "execute_result"
    }
   ],
   "source": [
    "actual"
   ]
  },
  {
   "cell_type": "code",
   "execution_count": 185,
   "id": "1f36d8f4-1b3b-45d4-becc-3a4b020ea7fb",
   "metadata": {},
   "outputs": [
    {
     "data": {
      "text/plain": [
       "array([46, 14, 33, 41, 40,  6, 35, 18, 20, 30, 35, 32, 48, 14, 35, 43, 45,\n",
       "       12,  8, 31, 44,  8, 26,  5, 45])"
      ]
     },
     "execution_count": 185,
     "metadata": {},
     "output_type": "execute_result"
    }
   ],
   "source": [
    "predicted"
   ]
  },
  {
   "cell_type": "code",
   "execution_count": 188,
   "id": "24ed4027-2b34-40bf-ba20-a4f8b7feea31",
   "metadata": {},
   "outputs": [],
   "source": [
    "def mse(actual,predicted):\n",
    "    return np.mean((actual-predicted)**2)"
   ]
  },
  {
   "cell_type": "code",
   "execution_count": 189,
   "id": "a3a03aa7-4447-4fb2-8f60-c38ff42f6192",
   "metadata": {},
   "outputs": [
    {
     "data": {
      "text/plain": [
       "602.28"
      ]
     },
     "execution_count": 189,
     "metadata": {},
     "output_type": "execute_result"
    }
   ],
   "source": [
    "mse(actual,predicted)"
   ]
  },
  {
   "cell_type": "markdown",
   "id": "33f81d16-7486-4308-858d-420040b5bfe8",
   "metadata": {},
   "source": [
    "**working with Missing Values**"
   ]
  },
  {
   "cell_type": "code",
   "execution_count": 199,
   "id": "381a4a4f-fe29-471c-bbc8-7baa90815a1f",
   "metadata": {},
   "outputs": [
    {
     "data": {
      "text/plain": [
       "dtype('float64')"
      ]
     },
     "execution_count": 199,
     "metadata": {},
     "output_type": "execute_result"
    }
   ],
   "source": [
    "a=np.array([1,2,3,4,np.nan,6])\n",
    "a.dtype"
   ]
  },
  {
   "cell_type": "code",
   "execution_count": 192,
   "id": "8762d125-03ea-4fbe-aab3-81cb7137b983",
   "metadata": {},
   "outputs": [
    {
     "data": {
      "text/plain": [
       "array([False, False, False, False,  True, False])"
      ]
     },
     "execution_count": 192,
     "metadata": {},
     "output_type": "execute_result"
    }
   ],
   "source": [
    "np.isnan(a)"
   ]
  },
  {
   "cell_type": "code",
   "execution_count": 193,
   "id": "073ce754-8202-4c6c-a844-37f769ece926",
   "metadata": {},
   "outputs": [
    {
     "data": {
      "text/plain": [
       "array([nan])"
      ]
     },
     "execution_count": 193,
     "metadata": {},
     "output_type": "execute_result"
    }
   ],
   "source": [
    "a[np.isnan(a)]"
   ]
  },
  {
   "cell_type": "code",
   "execution_count": 194,
   "id": "76a95a4f-389d-4455-b566-e3295ac2d46b",
   "metadata": {},
   "outputs": [
    {
     "data": {
      "text/plain": [
       "array([1., 2., 3., 4., 6.])"
      ]
     },
     "execution_count": 194,
     "metadata": {},
     "output_type": "execute_result"
    }
   ],
   "source": [
    "a[~np.isnan(a)]"
   ]
  },
  {
   "cell_type": "code",
   "execution_count": 196,
   "id": "e1e0a827-f4a4-46ae-af08-e396d5de5157",
   "metadata": {},
   "outputs": [],
   "source": [
    "a=np.array([1,2,3,4,None,6])\n"
   ]
  },
  {
   "cell_type": "code",
   "execution_count": 198,
   "id": "def1e54b-74e6-406e-84b3-10844bea90a2",
   "metadata": {},
   "outputs": [
    {
     "data": {
      "text/plain": [
       "dtype('O')"
      ]
     },
     "execution_count": 198,
     "metadata": {},
     "output_type": "execute_result"
    }
   ],
   "source": [
    "a.dtype"
   ]
  },
  {
   "cell_type": "markdown",
   "id": "a039d1f9-2506-4100-9aca-03bbc80f9bb4",
   "metadata": {},
   "source": [
    "**Plotting Graphs**"
   ]
  },
  {
   "cell_type": "code",
   "execution_count": 201,
   "id": "f4bb8bf1-1cc9-4669-8e0f-b17259010334",
   "metadata": {},
   "outputs": [],
   "source": [
    "#plotting a 2-D plot\n",
    "#x=y\n",
    "x=np.linspace(-10,10,100)\n",
    "y=x"
   ]
  },
  {
   "cell_type": "code",
   "execution_count": 202,
   "id": "6a039cc1-f184-44a0-a242-49c6b9def535",
   "metadata": {},
   "outputs": [
    {
     "data": {
      "text/plain": [
       "[<matplotlib.lines.Line2D at 0x25280a4b350>]"
      ]
     },
     "execution_count": 202,
     "metadata": {},
     "output_type": "execute_result"
    },
    {
     "data": {
      "image/png": "[encoded data removed]",
      "text/plain": [
       "<Figure size 640x480 with 1 Axes>"
      ]
     },
     "metadata": {},
     "output_type": "display_data"
    }
   ],
   "source": [
    "import matplotlib.pyplot as plt\n",
    "plt.plot(x,y)"
   ]
  },
  {
   "cell_type": "code",
   "execution_count": 203,
   "id": "4825f118-d19a-4fe4-a188-f9275fbbd49a",
   "metadata": {},
   "outputs": [
    {
     "data": {
      "text/plain": [
       "[<matplotlib.lines.Line2D at 0x25280a4bc20>]"
      ]
     },
     "execution_count": 203,
     "metadata": {},
     "output_type": "execute_result"
    },
    {
     "data": {
      "image/png": "[encoded data removed]",
      "text/plain": [
       "<Figure size 640x480 with 1 Axes>"
      ]
     },
     "metadata": {},
     "output_type": "display_data"
    }
   ],
   "source": [
    "#y=x^2\n",
    "x=np.linspace(-50,50,100)\n",
    "y=x**2\n",
    "plt.plot(x,y)"
   ]
  },
  {
   "cell_type": "code",
   "execution_count": 204,
   "id": "31a92847-b304-403f-b984-ff11aa49f2ed",
   "metadata": {},
   "outputs": [
    {
     "data": {
      "text/plain": [
       "[<matplotlib.lines.Line2D at 0x2528134eba0>]"
      ]
     },
     "execution_count": 204,
     "metadata": {},
     "output_type": "execute_result"
    },
    {
     "data": {
      "image/png": "[encoded data removed]",
      "text/plain": [
       "<Figure size 640x480 with 1 Axes>"
      ]
     },
     "metadata": {},
     "output_type": "display_data"
    }
   ],
   "source": [
    "#y=sin(x)\n",
    "x=np.linspace(-10,10,100)\n",
    "y=np.sin(x)\n",
    "plt.plot(x,y)"
   ]
  },
  {
   "cell_type": "code",
   "execution_count": 206,
   "id": "02171ccd-b741-4de4-93bf-36c9b4bf6883",
   "metadata": {},
   "outputs": [
    {
     "name": "stderr",
     "output_type": "stream",
     "text": [
      "C:\\Users\\HP\\AppData\\Local\\Temp\\ipykernel_7492\\1397141632.py:3: RuntimeWarning: invalid value encountered in log\n",
      "  y=x*np.log(x)\n"
     ]
    },
    {
     "data": {
      "text/plain": [
       "[<matplotlib.lines.Line2D at 0x25280b6dfa0>]"
      ]
     },
     "execution_count": 206,
     "metadata": {},
     "output_type": "execute_result"
    },
    {
     "data": {
      "image/png": "[encoded data removed]",
      "text/plain": [
       "<Figure size 640x480 with 1 Axes>"
      ]
     },
     "metadata": {},
     "output_type": "display_data"
    }
   ],
   "source": [
    "#y=xlogx\n",
    "x=np.linspace(-10,10,100)\n",
    "y=x*np.log(x)\n",
    "plt.plot(x,y)"
   ]
  },
  {
   "cell_type": "code",
   "execution_count": 207,
   "id": "8dcd617c-8f0c-48a3-b4c2-2a41e7cb5209",
   "metadata": {},
   "outputs": [
    {
     "data": {
      "text/plain": [
       "[<matplotlib.lines.Line2D at 0x2528238da00>]"
      ]
     },
     "execution_count": 207,
     "metadata": {},
     "output_type": "execute_result"
    },
    {
     "data": {
      "image/png": "[encoded data removed]",
      "text/plain": [
       "<Figure size 640x480 with 1 Axes>"
      ]
     },
     "metadata": {},
     "output_type": "display_data"
    }
   ],
   "source": [
    "#sigmoid\n",
    "x=np.linspace(-10,10,100)\n",
    "y=1/(1+np.exp(-x))\n",
    "plt.plot(x,y)"
   ]
  },
  {
   "cell_type": "markdown",
   "id": "3d80b0c9-a709-43bd-856b-0d080d3b3ad6",
   "metadata": {},
   "source": [
    "**NUmpy Tricks**"
   ]
  },
  {
   "cell_type": "code",
   "execution_count": 209,
   "id": "86ce1a00-5547-46e1-a365-1e5fb39e3362",
   "metadata": {},
   "outputs": [
    {
     "data": {
      "text/plain": [
       "array([13, 79, 24, 24, 25, 65, 54, 83, 18, 17, 47, 30, 88, 50, 82])"
      ]
     },
     "execution_count": 209,
     "metadata": {},
     "output_type": "execute_result"
    }
   ],
   "source": [
    "#np.sort-Resturn a sorted copy of an array\n",
    "import numpy as np\n",
    "a=np.random.randint(1,100,15)\n",
    "a"
   ]
  },
  {
   "cell_type": "code",
   "execution_count": 210,
   "id": "6321a1fb-2a2b-413a-87dc-7763fc5db772",
   "metadata": {},
   "outputs": [
    {
     "data": {
      "text/plain": [
       "array([[96, 30, 84, 38],\n",
       "       [95, 66, 55,  1],\n",
       "       [88, 64, 72, 61],\n",
       "       [73, 40, 50,  6],\n",
       "       [37, 68, 46, 16],\n",
       "       [90, 72, 52, 57]])"
      ]
     },
     "execution_count": 210,
     "metadata": {},
     "output_type": "execute_result"
    }
   ],
   "source": [
    "b=np.random.randint(1,100,24).reshape(6,4)\n",
    "b"
   ]
  },
  {
   "cell_type": "code",
   "execution_count": 211,
   "id": "428ebcc2-7c95-451f-a849-c45ace1ea8b8",
   "metadata": {},
   "outputs": [
    {
     "data": {
      "text/plain": [
       "array([13, 17, 18, 24, 24, 25, 30, 47, 50, 54, 65, 79, 82, 83, 88])"
      ]
     },
     "execution_count": 211,
     "metadata": {},
     "output_type": "execute_result"
    }
   ],
   "source": [
    "np.sort(a)"
   ]
  },
  {
   "cell_type": "code",
   "execution_count": 219,
   "id": "ad4e7759-eec3-4b26-b8e7-f9a017b69ddf",
   "metadata": {},
   "outputs": [
    {
     "data": {
      "text/plain": [
       "array([[37, 30, 46,  1],\n",
       "       [73, 40, 50,  6],\n",
       "       [88, 64, 52, 16],\n",
       "       [90, 66, 55, 38],\n",
       "       [95, 68, 72, 57],\n",
       "       [96, 72, 84, 61]])"
      ]
     },
     "execution_count": 219,
     "metadata": {},
     "output_type": "execute_result"
    }
   ],
   "source": [
    "np.sort(b,axis=0)\n",
    "# np.sort(b)\n",
    "# np.sort(b,axis=1)"
   ]
  },
  {
   "cell_type": "code",
   "execution_count": 220,
   "id": "f7ff78be-ee74-45f6-93ac-92e03bd874c6",
   "metadata": {},
   "outputs": [
    {
     "data": {
      "text/plain": [
       "array([ 13,  79,  24,  24,  25,  65,  54,  83,  18,  17,  47,  30,  88,\n",
       "        50,  82, 200])"
      ]
     },
     "execution_count": 220,
     "metadata": {},
     "output_type": "execute_result"
    }
   ],
   "source": [
    "#np.append-appends valuse along the mentioed axis at the end of the array\n",
    "np.append(a,200)"
   ]
  },
  {
   "cell_type": "code",
   "execution_count": 225,
   "id": "487bd153-a785-400c-acfd-a9850b3d11ad",
   "metadata": {},
   "outputs": [
    {
     "data": {
      "text/plain": [
       "array([[96., 30., 84., 38.,  1.],\n",
       "       [95., 66., 55.,  1.,  1.],\n",
       "       [88., 64., 72., 61.,  1.],\n",
       "       [73., 40., 50.,  6.,  1.],\n",
       "       [37., 68., 46., 16.,  1.],\n",
       "       [90., 72., 52., 57.,  1.]])"
      ]
     },
     "execution_count": 225,
     "metadata": {},
     "output_type": "execute_result"
    }
   ],
   "source": [
    "np.append(b,np.ones((b.shape[0],1)),axis=1)"
   ]
  },
  {
   "cell_type": "code",
   "execution_count": 226,
   "id": "80813a39-fcf8-447a-aca5-f49ab664ccc5",
   "metadata": {},
   "outputs": [
    {
     "name": "stdout",
     "output_type": "stream",
     "text": [
      "[[0 1 2]\n",
      " [3 4 5]]\n",
      "[[ 6  7  8]\n",
      " [ 9 10 11]]\n"
     ]
    }
   ],
   "source": [
    "#np.concatenate-function concatenate a sequenceof arrays along an existing axis\n",
    "c=np.arange(6).reshape(2,3)\n",
    "d=np.arange(6,12).reshape(2,3)\n",
    "\n",
    "print(c)\n",
    "print(d)"
   ]
  },
  {
   "cell_type": "code",
   "execution_count": 264,
   "id": "7f4a1c68-125c-4a8f-acc0-9fde62a9a6fc",
   "metadata": {},
   "outputs": [
    {
     "data": {
      "text/plain": [
       "array([[ 0,  1,  2],\n",
       "       [ 3,  4,  5],\n",
       "       [ 6,  7,  8],\n",
       "       [ 9, 10, 11]])"
      ]
     },
     "execution_count": 264,
     "metadata": {},
     "output_type": "execute_result"
    }
   ],
   "source": [
    "# np.concatenate((c,d))\n",
    "np.concatenate((c,d),axis=0)\n",
    "#both gives same"
   ]
  },
  {
   "cell_type": "code",
   "execution_count": 230,
   "id": "a5b2b2ed-c69b-4942-be51-409d2beb4552",
   "metadata": {},
   "outputs": [
    {
     "data": {
      "text/plain": [
       "array([[ 0,  1,  2,  6,  7,  8],\n",
       "       [ 3,  4,  5,  9, 10, 11]])"
      ]
     },
     "execution_count": 230,
     "metadata": {},
     "output_type": "execute_result"
    }
   ],
   "source": [
    "np.concatenate((c,d),axis=1)"
   ]
  },
  {
   "cell_type": "code",
   "execution_count": 231,
   "id": "e5cddd1e-0a78-416f-8a9f-726a9ba63508",
   "metadata": {},
   "outputs": [
    {
     "data": {
      "text/plain": [
       "array([1, 2, 3, 4, 5, 6])"
      ]
     },
     "execution_count": 231,
     "metadata": {},
     "output_type": "execute_result"
    }
   ],
   "source": [
    "#np.unique\n",
    "e=np.array([1,1,1,2,2,3,3,3,4,4,5,5,6,])\n",
    "np.unique(e)"
   ]
  },
  {
   "cell_type": "code",
   "execution_count": 236,
   "id": "64736d98-0dbb-492a-97cd-5cd560d43787",
   "metadata": {},
   "outputs": [
    {
     "data": {
      "text/plain": [
       "(15,)"
      ]
     },
     "execution_count": 236,
     "metadata": {},
     "output_type": "execute_result"
    }
   ],
   "source": [
    "#np.expand_dims-we can get the expanded dimensions of an array\n",
    "a.shape"
   ]
  },
  {
   "cell_type": "code",
   "execution_count": 239,
   "id": "ffceb4e7-48d0-47ca-938e-ba5d0841c1e0",
   "metadata": {},
   "outputs": [
    {
     "data": {
      "text/plain": [
       "array([[13, 79, 24, 24, 25, 65, 54, 83, 18, 17, 47, 30, 88, 50, 82]])"
      ]
     },
     "execution_count": 239,
     "metadata": {},
     "output_type": "execute_result"
    }
   ],
   "source": [
    "np.expand_dims(a,axis=0)"
   ]
  },
  {
   "cell_type": "code",
   "execution_count": 240,
   "id": "c0c41d12-ac09-407d-8a5b-63eade271f6d",
   "metadata": {},
   "outputs": [
    {
     "data": {
      "text/plain": [
       "(1, 15)"
      ]
     },
     "execution_count": 240,
     "metadata": {},
     "output_type": "execute_result"
    }
   ],
   "source": [
    "np.expand_dims(a,axis=0).shape"
   ]
  },
  {
   "cell_type": "code",
   "execution_count": 238,
   "id": "468908b1-3b97-4765-8d89-49c18cb34753",
   "metadata": {},
   "outputs": [
    {
     "data": {
      "text/plain": [
       "(15, 1)"
      ]
     },
     "execution_count": 238,
     "metadata": {},
     "output_type": "execute_result"
    }
   ],
   "source": [
    "np.expand_dims(a,axis=1).shape"
   ]
  },
  {
   "cell_type": "code",
   "execution_count": 241,
   "id": "46dd7c74-2c37-4d54-894b-86273f21afe1",
   "metadata": {},
   "outputs": [
    {
     "data": {
      "text/plain": [
       "array([13, 79, 24, 24, 25, 65, 54, 83, 18, 17, 47, 30, 88, 50, 82])"
      ]
     },
     "execution_count": 241,
     "metadata": {},
     "output_type": "execute_result"
    }
   ],
   "source": [
    "#np.where-returns the indices of elements in an input array where teh given condition is satisfied \n",
    "a"
   ]
  },
  {
   "cell_type": "code",
   "execution_count": 242,
   "id": "328b4816-b642-48ac-803e-97eac7d29896",
   "metadata": {},
   "outputs": [
    {
     "data": {
      "text/plain": [
       "(array([ 1,  5,  6,  7, 12, 14], dtype=int64),)"
      ]
     },
     "execution_count": 242,
     "metadata": {},
     "output_type": "execute_result"
    }
   ],
   "source": [
    "#find all indices with value greater than 50\n",
    "np.where(a>50)"
   ]
  },
  {
   "cell_type": "code",
   "execution_count": 244,
   "id": "45b4ca75-1809-49be-ae9b-74c1b0c9ba70",
   "metadata": {},
   "outputs": [
    {
     "data": {
      "text/plain": [
       "array([13,  0, 24, 24, 25,  0,  0,  0, 18, 17, 47, 30,  0, 50,  0])"
      ]
     },
     "execution_count": 244,
     "metadata": {},
     "output_type": "execute_result"
    }
   ],
   "source": [
    "#replace all values >50 with 0 np.where(condition,true,false)\n",
    "np.where(a>50,0,a)"
   ]
  },
  {
   "cell_type": "code",
   "execution_count": 245,
   "id": "5ca1c268-79f9-4979-8fa0-43739da4ce48",
   "metadata": {},
   "outputs": [
    {
     "data": {
      "text/plain": [
       "array([13, 79,  0,  0, 25, 65,  0, 83,  0, 17, 47,  0,  0,  0,  0])"
      ]
     },
     "execution_count": 245,
     "metadata": {},
     "output_type": "execute_result"
    }
   ],
   "source": [
    "#replace all even numbers with zeros\n",
    "np.where(a%2==0,0,a)"
   ]
  },
  {
   "cell_type": "code",
   "execution_count": 246,
   "id": "cc7ed701-d19b-499c-882e-3b1fbb546619",
   "metadata": {},
   "outputs": [
    {
     "data": {
      "text/plain": [
       "12"
      ]
     },
     "execution_count": 246,
     "metadata": {},
     "output_type": "execute_result"
    }
   ],
   "source": [
    "#np.argmax-returns indices of the max element of the array in a particular axis\n",
    "np.argmax(a)"
   ]
  },
  {
   "cell_type": "code",
   "execution_count": 247,
   "id": "84fe35cf-df1e-4080-bd7f-036ced266b3a",
   "metadata": {},
   "outputs": [
    {
     "data": {
      "text/plain": [
       "array([[96, 30, 84, 38],\n",
       "       [95, 66, 55,  1],\n",
       "       [88, 64, 72, 61],\n",
       "       [73, 40, 50,  6],\n",
       "       [37, 68, 46, 16],\n",
       "       [90, 72, 52, 57]])"
      ]
     },
     "execution_count": 247,
     "metadata": {},
     "output_type": "execute_result"
    }
   ],
   "source": [
    "b"
   ]
  },
  {
   "cell_type": "code",
   "execution_count": 248,
   "id": "69ad6606-b072-49d6-adeb-11368f566ebf",
   "metadata": {},
   "outputs": [
    {
     "data": {
      "text/plain": [
       "array([0, 5, 0, 2], dtype=int64)"
      ]
     },
     "execution_count": 248,
     "metadata": {},
     "output_type": "execute_result"
    }
   ],
   "source": [
    "np.argmax(b,axis=0)"
   ]
  },
  {
   "cell_type": "code",
   "execution_count": 249,
   "id": "afbe7455-23c5-419a-8ebc-dcfd376fdbbc",
   "metadata": {},
   "outputs": [
    {
     "data": {
      "text/plain": [
       "array([0, 0, 0, 0, 1, 0], dtype=int64)"
      ]
     },
     "execution_count": 249,
     "metadata": {},
     "output_type": "execute_result"
    }
   ],
   "source": [
    "np.argmax(b,axis=1)"
   ]
  },
  {
   "cell_type": "code",
   "execution_count": 250,
   "id": "bc529edb-dd94-44a3-9bfd-232ccb80542c",
   "metadata": {},
   "outputs": [
    {
     "data": {
      "text/plain": [
       "0"
      ]
     },
     "execution_count": 250,
     "metadata": {},
     "output_type": "execute_result"
    }
   ],
   "source": [
    "np.argmax(b)"
   ]
  },
  {
   "cell_type": "code",
   "execution_count": 251,
   "id": "87497ebe-e393-46a6-9d26-6ea979aa72f1",
   "metadata": {},
   "outputs": [],
   "source": [
    "#argmin is same as argmax"
   ]
  },
  {
   "cell_type": "code",
   "execution_count": 253,
   "id": "0b2c7e21-b606-4921-8bf5-6f100facbf52",
   "metadata": {},
   "outputs": [
    {
     "data": {
      "text/plain": [
       "array([ 13,  92, 116, 140, 165, 230, 284, 367, 385, 402, 449, 479, 567,\n",
       "       617, 699])"
      ]
     },
     "execution_count": 253,
     "metadata": {},
     "output_type": "execute_result"
    }
   ],
   "source": [
    "#np.cumsum is used when we want to compute the cumulative sum of array elements over a given axis.\n",
    "a\n",
    "np.cumsum(a)"
   ]
  },
  {
   "cell_type": "code",
   "execution_count": 254,
   "id": "58eacff0-480d-4a2f-8678-09f368b216d5",
   "metadata": {},
   "outputs": [
    {
     "data": {
      "text/plain": [
       "array([  96,  126,  210,  248,  343,  409,  464,  465,  553,  617,  689,\n",
       "        750,  823,  863,  913,  919,  956, 1024, 1070, 1086, 1176, 1248,\n",
       "       1300, 1357])"
      ]
     },
     "execution_count": 254,
     "metadata": {},
     "output_type": "execute_result"
    }
   ],
   "source": [
    "np.cumsum(b)"
   ]
  },
  {
   "cell_type": "code",
   "execution_count": 256,
   "id": "f09b7fb0-97f4-4a0b-847b-db383d85e014",
   "metadata": {},
   "outputs": [
    {
     "data": {
      "text/plain": [
       "array([[ 96, 126, 210, 248],\n",
       "       [ 95, 161, 216, 217],\n",
       "       [ 88, 152, 224, 285],\n",
       "       [ 73, 113, 163, 169],\n",
       "       [ 37, 105, 151, 167],\n",
       "       [ 90, 162, 214, 271]])"
      ]
     },
     "execution_count": 256,
     "metadata": {},
     "output_type": "execute_result"
    }
   ],
   "source": [
    "np.cumsum(b,axis=0)\n",
    "np.cumsum(b,axis=1)"
   ]
  },
  {
   "cell_type": "code",
   "execution_count": 258,
   "id": "55fca93b-2a99-475a-939b-8925e64f4803",
   "metadata": {},
   "outputs": [
    {
     "data": {
      "text/plain": [
       "array([         13,        1027,       24648,      591552,    14788800,\n",
       "         961272000,   369080448,   568906112,  1650375424, -2008388864,\n",
       "          95003904, -1444850176,  1702203392,  -789176320,  -287948800])"
      ]
     },
     "execution_count": 258,
     "metadata": {},
     "output_type": "execute_result"
    }
   ],
   "source": [
    "np.cumprod(a)"
   ]
  },
  {
   "cell_type": "code",
   "execution_count": 261,
   "id": "7fedeaf1-8c79-4c91-b34c-e87faf863f2b",
   "metadata": {},
   "outputs": [
    {
     "data": {
      "text/plain": [
       "13.0"
      ]
     },
     "execution_count": 261,
     "metadata": {},
     "output_type": "execute_result"
    }
   ],
   "source": [
    "#np.percentile-used to compute the nth percentile of the given data\n",
    "np.percentile(a,0)"
   ]
  },
  {
   "cell_type": "code",
   "execution_count": 262,
   "id": "46dcdc56-8496-4848-b9c8-effc9e60848d",
   "metadata": {},
   "outputs": [
    {
     "data": {
      "text/plain": [
       "47.0"
      ]
     },
     "execution_count": 262,
     "metadata": {},
     "output_type": "execute_result"
    }
   ],
   "source": [
    "np.percentile(a,50)"
   ]
  },
  {
   "cell_type": "code",
   "execution_count": 263,
   "id": "36ca22db-ebd1-4acf-ab0a-becc8afc65c1",
   "metadata": {},
   "outputs": [
    {
     "data": {
      "text/plain": [
       "47.0"
      ]
     },
     "execution_count": 263,
     "metadata": {},
     "output_type": "execute_result"
    }
   ],
   "source": [
    "np.median(a)"
   ]
  },
  {
   "cell_type": "code",
   "execution_count": 266,
   "id": "68a6aa32-aa3b-48dd-b8ea-41815450c53a",
   "metadata": {},
   "outputs": [
    {
     "data": {
      "text/plain": [
       "(array([8, 7], dtype=int64), array([  0,  50, 100]))"
      ]
     },
     "execution_count": 266,
     "metadata": {},
     "output_type": "execute_result"
    }
   ],
   "source": [
    "#np.histogram-represents the frequency of data distribution in the graphical form.\n",
    "np.histogram(a,bins=[0,10,20,30,40,50,60,70,80,90,100])\n",
    "np.histogram(a,bins=[0,50,100])"
   ]
  },
  {
   "cell_type": "code",
   "execution_count": 268,
   "id": "e0d8d8a6-b002-4d68-8691-849608deb037",
   "metadata": {},
   "outputs": [
    {
     "data": {
      "text/plain": [
       "array([[1.        , 0.25344572],\n",
       "       [0.25344572, 1.        ]])"
      ]
     },
     "execution_count": 268,
     "metadata": {},
     "output_type": "execute_result"
    }
   ],
   "source": [
    "#np.corrcoef -returns pearson-moment correlation coeeficients.\n",
    "salary =np.array([20000,40000,25000,35000,60000])\n",
    "exp=np.array([1,3,2,4,2])\n",
    "np.corrcoef(salary,exp)"
   ]
  },
  {
   "cell_type": "code",
   "execution_count": 272,
   "id": "a6708139-ef4b-440a-a65c-23042a4b892b",
   "metadata": {},
   "outputs": [
    {
     "data": {
      "text/plain": [
       "array([30, 50])"
      ]
     },
     "execution_count": 272,
     "metadata": {},
     "output_type": "execute_result"
    }
   ],
   "source": [
    "#np.isin -we can see that on array having values are checked in a different numpy array having different elements with different sizes.\n",
    "items=[10,20,30,40,50,60,70,80,90,100]\n",
    "a[np.isin(a,items)]"
   ]
  },
  {
   "cell_type": "code",
   "execution_count": 274,
   "id": "a5294f55-cb68-4875-abc2-4fdbd90894f5",
   "metadata": {},
   "outputs": [
    {
     "data": {
      "text/plain": [
       "array([82, 50, 88, 30, 47, 17, 18, 83, 54, 65, 25, 24, 24, 79, 13])"
      ]
     },
     "execution_count": 274,
     "metadata": {},
     "output_type": "execute_result"
    }
   ],
   "source": [
    "#np.flip -reverses the order of array elements along the specified axis,preserving the shape of the array\n",
    "a\n",
    "np.flip(a)"
   ]
  },
  {
   "cell_type": "code",
   "execution_count": 276,
   "id": "ad494418-9504-43f0-a3d8-80ba45330dc8",
   "metadata": {},
   "outputs": [
    {
     "name": "stdout",
     "output_type": "stream",
     "text": [
      "[[96 30 84 38]\n",
      " [95 66 55  1]\n",
      " [88 64 72 61]\n",
      " [73 40 50  6]\n",
      " [37 68 46 16]\n",
      " [90 72 52 57]]\n"
     ]
    },
    {
     "data": {
      "text/plain": [
       "array([[57, 52, 72, 90],\n",
       "       [16, 46, 68, 37],\n",
       "       [ 6, 50, 40, 73],\n",
       "       [61, 72, 64, 88],\n",
       "       [ 1, 55, 66, 95],\n",
       "       [38, 84, 30, 96]])"
      ]
     },
     "execution_count": 276,
     "metadata": {},
     "output_type": "execute_result"
    }
   ],
   "source": [
    "print(b)\n",
    "np.flip(b)"
   ]
  },
  {
   "cell_type": "code",
   "execution_count": 278,
   "id": "1e74a45e-35b0-4425-b4cf-c5c5c9e2b6f5",
   "metadata": {},
   "outputs": [
    {
     "data": {
      "text/plain": [
       "array([[38, 84, 30, 96],\n",
       "       [ 1, 55, 66, 95],\n",
       "       [61, 72, 64, 88],\n",
       "       [ 6, 50, 40, 73],\n",
       "       [16, 46, 68, 37],\n",
       "       [57, 52, 72, 90]])"
      ]
     },
     "execution_count": 278,
     "metadata": {},
     "output_type": "execute_result"
    }
   ],
   "source": [
    "np.flip(b,axis=0)\n",
    "np.flip(b,axis=1)"
   ]
  },
  {
   "cell_type": "code",
   "execution_count": 279,
   "id": "c8df392e-4428-4d79-8e7d-e7287c1ba540",
   "metadata": {},
   "outputs": [
    {
     "name": "stdout",
     "output_type": "stream",
     "text": [
      "[13 79 24 24 25 65 54 83 18 17 47 30 88 50 82]\n"
     ]
    }
   ],
   "source": [
    "#np.put -replaces specific elements of an array with given values of p_array.array indexed works on flattened array\n",
    "print(a)\n"
   ]
  },
  {
   "cell_type": "code",
   "execution_count": 280,
   "id": "60cfe15a-438c-4381-beb4-0c859daf2b97",
   "metadata": {},
   "outputs": [],
   "source": [
    "np.put(a,[0,1],[130,790])"
   ]
  },
  {
   "cell_type": "code",
   "execution_count": 281,
   "id": "326f8306-1c58-414f-abad-ad2ab662bfb7",
   "metadata": {},
   "outputs": [
    {
     "data": {
      "text/plain": [
       "array([130, 790,  24,  24,  25,  65,  54,  83,  18,  17,  47,  30,  88,\n",
       "        50,  82])"
      ]
     },
     "execution_count": 281,
     "metadata": {},
     "output_type": "execute_result"
    }
   ],
   "source": [
    "a"
   ]
  },
  {
   "cell_type": "code",
   "execution_count": 282,
   "id": "e86fb411-a8e5-425e-9c09-9fa2a5abac4f",
   "metadata": {},
   "outputs": [
    {
     "data": {
      "text/plain": [
       "array([790,  24,  24,  25,  65,  54,  83,  18,  17,  47,  30,  88,  50,\n",
       "        82])"
      ]
     },
     "execution_count": 282,
     "metadata": {},
     "output_type": "execute_result"
    }
   ],
   "source": [
    "#np.delete -returns a new array with the deletions of sub-arrays with the mentioned axis.\n",
    "np.delete(a,0)"
   ]
  },
  {
   "cell_type": "code",
   "execution_count": 283,
   "id": "6c6eecd8-7de9-4ea6-9861-e91347be4d69",
   "metadata": {},
   "outputs": [
    {
     "data": {
      "text/plain": [
       "array([790,  24,  65,  54,  83,  18,  17,  47,  30,  88,  50,  82])"
      ]
     },
     "execution_count": 283,
     "metadata": {},
     "output_type": "execute_result"
    }
   ],
   "source": [
    "np.delete(a,[0,2,4])"
   ]
  },
  {
   "cell_type": "markdown",
   "id": "ef4089b3-72d3-470a-8a27-63c0554c28b0",
   "metadata": {},
   "source": [
    "**Set Functions**"
   ]
  },
  {
   "cell_type": "code",
   "execution_count": 284,
   "id": "226211e8-e81b-4c53-a670-a1aa54da2942",
   "metadata": {},
   "outputs": [
    {
     "data": {
      "text/plain": [
       "array([1, 2, 3, 4, 5, 6, 7])"
      ]
     },
     "execution_count": 284,
     "metadata": {},
     "output_type": "execute_result"
    }
   ],
   "source": [
    "m=np.array([1,2,3,4,5])\n",
    "n=np.array([3,4,5,6,7])\n",
    "np.union1d(m,n)"
   ]
  },
  {
   "cell_type": "code",
   "execution_count": 285,
   "id": "cf9124ea-c401-47e6-a9a9-35dd43b4d8f4",
   "metadata": {},
   "outputs": [
    {
     "data": {
      "text/plain": [
       "array([3, 4, 5])"
      ]
     },
     "execution_count": 285,
     "metadata": {},
     "output_type": "execute_result"
    }
   ],
   "source": [
    "np.intersect1d(m,n)"
   ]
  },
  {
   "cell_type": "code",
   "execution_count": 286,
   "id": "ced64dd9-ba76-4122-a7cb-e45d5cf95972",
   "metadata": {},
   "outputs": [
    {
     "data": {
      "text/plain": [
       "array([1, 2])"
      ]
     },
     "execution_count": 286,
     "metadata": {},
     "output_type": "execute_result"
    }
   ],
   "source": [
    "np.setdiff1d(m,n)"
   ]
  },
  {
   "cell_type": "code",
   "execution_count": 287,
   "id": "56b171c7-5294-4381-a714-ff132a0e4258",
   "metadata": {},
   "outputs": [
    {
     "data": {
      "text/plain": [
       "array([6, 7])"
      ]
     },
     "execution_count": 287,
     "metadata": {},
     "output_type": "execute_result"
    }
   ],
   "source": [
    "np.setdiff1d(n,m)"
   ]
  },
  {
   "cell_type": "code",
   "execution_count": 288,
   "id": "acdb9f5d-7cf6-4a1d-bf3c-b10ee1a67755",
   "metadata": {},
   "outputs": [
    {
     "data": {
      "text/plain": [
       "array([1, 2, 6, 7])"
      ]
     },
     "execution_count": 288,
     "metadata": {},
     "output_type": "execute_result"
    }
   ],
   "source": [
    "np.setxor1d(m,n)"
   ]
  },
  {
   "cell_type": "code",
   "execution_count": 289,
   "id": "fd3a8aa1-bee4-4cf7-97e4-695089999179",
   "metadata": {},
   "outputs": [
    {
     "data": {
      "text/plain": [
       "array([ True, False, False, False, False])"
      ]
     },
     "execution_count": 289,
     "metadata": {},
     "output_type": "execute_result"
    }
   ],
   "source": [
    "np.in1d(m,1)"
   ]
  },
  {
   "cell_type": "code",
   "execution_count": 290,
   "id": "542ec031-0c36-43a5-bbbc-e42b539c29b5",
   "metadata": {},
   "outputs": [
    {
     "data": {
      "text/plain": [
       "array([75, 75, 25, 25, 25, 65, 54, 75, 25, 25, 47, 30, 75, 50, 75])"
      ]
     },
     "execution_count": 290,
     "metadata": {},
     "output_type": "execute_result"
    }
   ],
   "source": [
    "#np.clip-is used to clip(limit) the values in an array.\n",
    "np.clip(a,a_min=25,a_max=75)"
   ]
  },
  {
   "cell_type": "code",
   "execution_count": 291,
   "id": "874e4e1f-f84d-4f3a-b405-727d2a4831e3",
   "metadata": {},
   "outputs": [
    {
     "data": {
      "text/plain": [
       "array([130, 790,  24,  24,  25,  65,  54,  83,  18,  17,  47,  30,  88,\n",
       "        50,  82])"
      ]
     },
     "execution_count": 291,
     "metadata": {},
     "output_type": "execute_result"
    }
   ],
   "source": [
    "a"
   ]
  },
  {
   "cell_type": "code",
   "execution_count": null,
   "id": "3c2ac6ee-581e-4e2d-a317-a6fd4a5dd633",
   "metadata": {},
   "outputs": [],
   "source": []
  }
 ],
 "metadata": {
  "kernelspec": {
   "display_name": "Python 3 (ipykernel)",
   "language": "python",
   "name": "python3"
  },
  "language_info": {
   "codemirror_mode": {
    "name": "ipython",
    "version": 3
   },
   "file_extension": ".py",
   "mimetype": "text/x-python",
   "name": "python",
   "nbconvert_exporter": "python",
   "pygments_lexer": "ipython3",
   "version": "3.12.4"
  }
 },
 "nbformat": 4,
 "nbformat_minor": 5
}
